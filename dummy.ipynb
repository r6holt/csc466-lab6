{
 "cells": [
  {
   "cell_type": "code",
   "execution_count": 2,
   "metadata": {},
   "outputs": [],
   "source": [
    "import argparse\n",
    "import pandas as pd\n",
    "import numpy as np\n",
    "import math\n",
    "import queue\n",
    "\n",
    "import time\n",
    "\n",
    "class User:\n",
    "    def __init__(self, num_ratings, ratings):\n",
    "        self.num_ratings = num_ratings\n",
    "        self.ratings = ratings\n",
    "        self.num_ratings = 0\n",
    "        self.sum_ratings = 0\n",
    "        for r in ratings:\n",
    "            if r != 99:\n",
    "                self.num_ratings += 1\n",
    "                self.sum_ratings += r\n",
    "        self.mean_rating = self.sum_ratings / self.num_ratings\n",
    "\n",
    "class Joke:\n",
    "    def __init__(self, ratings):\n",
    "        self.ratings = ratings\n",
    "        self.num_users = len(self.ratings)\n",
    "        self.num_ratings = 0\n",
    "        self.sum_ratings = 0\n",
    "        for r in ratings:\n",
    "            if r != 99:\n",
    "                self.num_ratings += 1\n",
    "                self.sum_ratings += r\n",
    "        self.mean_rating = self.sum_ratings / self.num_ratings\n",
    "        self.inverse_user_freq = math.log2(self.num_users / self.num_ratings)\n",
    "\n",
    "def getArgs():\n",
    "    p = argparse.ArgumentParser(description='Collab Filtering')\n",
    "    p.add_argument('-f', '--filepath', help='data file path', required=True)\n",
    "    return vars(p.parse_args())\n",
    "\n",
    "def parse(filepath):\n",
    "    df = pd.read_csv(filepath, sep=',', header=None)\n",
    "    ratings_per_user = df[0]\n",
    "    df = df.drop(df.columns[0], axis=1)\n",
    "    jokes = []\n",
    "    users = []\n",
    "    for j in df:\n",
    "        jratings = np.array(df[j])\n",
    "        jokes.append(Joke(jratings))\n",
    "    for i, u in df.iterrows():\n",
    "        uratings = np.array(u)\n",
    "        users.append(User(ratings_per_user[i], uratings))\n",
    "    return df.values, jokes, users\n",
    "\n",
    "def pearsonCorr(users):\n",
    "    uratings = []\n",
    "    for u in users:\n",
    "        ratings = np.array([r if r != 99 else 0 for r in u.ratings])\n",
    "        uratings.append(ratings)\n",
    "    corr_matrix = np.corrcoef(uratings)\n",
    "    return corr_matrix\n",
    "\n",
    "def knnHelper(corr_matrix, k, source_uids):\n",
    "    user_knn = {}\n",
    "    for uid in source_uids:\n",
    "        u = corr_matrix[uid]\n",
    "        neighbors = sorted(range(len(u)), key=lambda k: 1-abs(u[k]))\n",
    "        user_knn[uid] = neighbors[1:]\n",
    "    return user_knn\n",
    "\n",
    "def meanUtility(matrix, jokes, users, uid, iid):\n",
    "    u = users[uid]\n",
    "    j = jokes[iid]\n",
    "    prev = matrix[uid, iid]\n",
    "    if prev != 99:\n",
    "        matrix[uid, iid] = 99\n",
    "    pred = j.mean_rating\n",
    "    if pred > 10:\n",
    "        pred = 10\n",
    "    elif pred < -10:\n",
    "        pred = -10\n",
    "    matrix[uid, iid] = prev\n",
    "    return pred\n",
    "\n",
    "def weightedSum(matrix, jokes, users, corr_matrix, uid, iid):\n",
    "    u = users[uid]\n",
    "    j = jokes[iid]\n",
    "    prev = matrix[uid, iid]\n",
    "    if prev != 99:\n",
    "        matrix[uid, iid] = 99\n",
    "    wcount = 0\n",
    "    pcount = 0\n",
    "    for i, urating in enumerate(j.ratings):\n",
    "        if urating != 99:\n",
    "            sim = corr_matrix[uid, i]\n",
    "            wcount += abs(sim)\n",
    "            pcount += sim * urating\n",
    "    pred = (1/wcount) * pcount\n",
    "    if pred > 10:\n",
    "        pred = 10\n",
    "    elif pred < -10:\n",
    "        pred = -10\n",
    "    matrix[uid, iid] = prev\n",
    "    return pred\n",
    "\n",
    "\n",
    "def knnWeighted(matrix, jokes, users, corr_matrix, uid_knn, k, uid, iid):\n",
    "    u = users[uid]\n",
    "    j = jokes[iid]\n",
    "    prev = matrix[uid, iid]\n",
    "    if prev != 99:\n",
    "        matrix[uid, iid] = 99\n",
    "    wcount = 0\n",
    "    pcount = 0\n",
    "    knn = uid_knn[uid]\n",
    "    ncount = 0\n",
    "    for nid in knn:\n",
    "        if ncount == k:\n",
    "            break\n",
    "        urating = j.ratings[nid]\n",
    "        if urating != 99:\n",
    "            sim = corr_matrix[uid, nid]\n",
    "            wcount += abs(sim)\n",
    "            pcount += sim * urating\n",
    "            ncount += 1\n",
    "    pred = (1/wcount) * pcount\n",
    "    if pred > 10:\n",
    "        pred = 10\n",
    "    elif pred < -10:\n",
    "        pred = -10\n",
    "    matrix[uid, iid] = prev\n",
    "    return pred\n",
    "\n",
    "\n",
    "def knnAverage(matrix, jokes, users, corr_matrix, uid_knn, k, uid, iid):\n",
    "    u = users[uid]\n",
    "    j = jokes[iid]\n",
    "    prev = matrix[uid, iid]\n",
    "    if prev != 99:\n",
    "        matrix[uid, iid] = 99\n",
    "\n",
    "    pcount = 0\n",
    "    #print(uid_knn.shape, \"\\n\")\n",
    "    knn = uid_knn[uid]\n",
    "    ncount = 0\n",
    "    for nid in knn:\n",
    "        if ncount == k:\n",
    "            break\n",
    "        urating = j.ratings[nid]\n",
    "        if urating != 99:\n",
    "            pcount += urating\n",
    "            ncount += 1\n",
    "    pred = (1/k) * pcount\n",
    "    if pred > 10:\n",
    "        pred = 10\n",
    "    elif pred < -10:\n",
    "        pred = -10\n",
    "    matrix[uid, iid] = prev\n",
    "    return pred\n",
    "def main():\n",
    "    args = getArgs()\n",
    "    filepath = args['filepath']\n",
    "    k = 4\n",
    "    matrix, jokes, users = parse(filepath)\n",
    "    corr_matrix = pearsonCorr(users)\n",
    "    uid_knn = knnHelper(corr_matrix, k, [0, 1, 3, 4])\n",
    "    mrating = meanUtility(matrix, jokes, users, 2, 5)\n",
    "    print(mrating)\n",
    "    wrating = weightedSum(matrix, jokes, users, corr_matrix, 2, 5)\n",
    "    print(wrating)\n",
    "    kwrating = knnWeighted(matrix, jokes, users, corr_matrix, uid_knn, k, 3, 5)\n",
    "    print(kwrating)\n",
    "\n",
    "    karating = knnAverage(matrix, jokes, users, corr_matrix, uid_knn, k, 3, 5)\n",
    "    print(karating)\n",
    "\n"
   ]
  },
  {
   "cell_type": "code",
   "execution_count": 9,
   "metadata": {},
   "outputs": [
    {
     "ename": "AttributeError",
     "evalue": "module 'parser' has no attribute 'Parse'",
     "output_type": "error",
     "traceback": [
      "\u001b[0;31m---------------------------------------------------------------------------\u001b[0m",
      "\u001b[0;31mAttributeError\u001b[0m                            Traceback (most recent call last)",
      "\u001b[0;32m<ipython-input-9-4d58c1406f85>\u001b[0m in \u001b[0;36m<module>\u001b[0;34m\u001b[0m\n\u001b[1;32m      1\u001b[0m \u001b[0;32mimport\u001b[0m \u001b[0mparser\u001b[0m\u001b[0;34m\u001b[0m\u001b[0;34m\u001b[0m\u001b[0m\n\u001b[0;32m----> 2\u001b[0;31m \u001b[0mparsed\u001b[0m \u001b[0;34m=\u001b[0m \u001b[0mparser\u001b[0m\u001b[0;34m.\u001b[0m\u001b[0mParse\u001b[0m\u001b[0;34m(\u001b[0m\u001b[0;34m\"data/jester-data-1.csv\"\u001b[0m\u001b[0;34m)\u001b[0m\u001b[0;34m\u001b[0m\u001b[0;34m\u001b[0m\u001b[0m\n\u001b[0m",
      "\u001b[0;31mAttributeError\u001b[0m: module 'parser' has no attribute 'Parse'"
     ]
    }
   ],
   "source": [
    "import parser\n",
    "parsed = parser.Parse(\"data/jester-data-1.csv\")"
   ]
  },
  {
   "cell_type": "code",
   "execution_count": 5,
   "metadata": {},
   "outputs": [
    {
     "ename": "NameError",
     "evalue": "name 'parsed' is not defined",
     "output_type": "error",
     "traceback": [
      "\u001b[0;31m---------------------------------------------------------------------------\u001b[0m",
      "\u001b[0;31mNameError\u001b[0m                                 Traceback (most recent call last)",
      "\u001b[0;32m<ipython-input-5-a7b0d4571901>\u001b[0m in \u001b[0;36m<module>\u001b[0;34m\u001b[0m\n\u001b[0;32m----> 1\u001b[0;31m \u001b[0mdf\u001b[0m \u001b[0;34m=\u001b[0m \u001b[0mparsed\u001b[0m\u001b[0;34m.\u001b[0m\u001b[0mget_df\u001b[0m\u001b[0;34m(\u001b[0m\u001b[0;34m)\u001b[0m\u001b[0;34m\u001b[0m\u001b[0;34m\u001b[0m\u001b[0m\n\u001b[0m",
      "\u001b[0;31mNameError\u001b[0m: name 'parsed' is not defined"
     ]
    }
   ],
   "source": [
    "df = parsed.get_df()"
   ]
  },
  {
   "cell_type": "code",
   "execution_count": 3,
   "metadata": {},
   "outputs": [
    {
     "name": "stdout",
     "output_type": "stream",
     "text": [
      "2.67\n"
     ]
    }
   ],
   "source": [
    "\n",
    "filepath = 'data/jester-data-1.csv'\n",
    "k = 4\n",
    "matrix, jokes, users = parse(filepath)\n",
    "corr_matrix = pearsonCorr(users)\n",
    "uid_knn = knnHelper(corr_matrix, k, [0, 1, 3, 4])\n",
    "\n",
    "karating = knnAverage(matrix, jokes, users, corr_matrix, uid_knn, k, 3, 5)\n",
    "\n"
   ]
  },
  {
   "cell_type": "code",
   "execution_count": 4,
   "metadata": {},
   "outputs": [
    {
     "data": {
      "text/plain": [
       "<__main__.User at 0x7f32260542b0>"
      ]
     },
     "execution_count": 4,
     "metadata": {},
     "output_type": "execute_result"
    }
   ],
   "source": [
    "users[10] == \n"
   ]
  },
  {
   "cell_type": "code",
   "execution_count": null,
   "metadata": {},
   "outputs": [],
   "source": [
    "print(karating)"
   ]
  },
  {
   "cell_type": "code",
   "execution_count": null,
   "metadata": {},
   "outputs": [],
   "source": []
  },
  {
   "cell_type": "code",
   "execution_count": null,
   "metadata": {},
   "outputs": [],
   "source": []
  }
 ],
 "metadata": {
  "kernelspec": {
   "display_name": "Python 3",
   "language": "python",
   "name": "python3"
  },
  "language_info": {
   "codemirror_mode": {
    "name": "ipython",
    "version": 3
   },
   "file_extension": ".py",
   "mimetype": "text/x-python",
   "name": "python",
   "nbconvert_exporter": "python",
   "pygments_lexer": "ipython3",
   "version": "3.6.8"
  }
 },
 "nbformat": 4,
 "nbformat_minor": 2
}
